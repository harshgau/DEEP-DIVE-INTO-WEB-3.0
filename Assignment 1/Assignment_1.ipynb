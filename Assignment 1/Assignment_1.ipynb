{
  "nbformat": 4,
  "nbformat_minor": 0,
  "metadata": {
    "colab": {
      "name": "Assignment_1.ipynb",
      "provenance": [],
      "collapsed_sections": []
    },
    "kernelspec": {
      "name": "python3",
      "display_name": "Python 3"
    },
    "language_info": {
      "name": "python"
    }
  },
  "cells": [
    {
      "cell_type": "code",
      "execution_count": 6,
      "metadata": {
        "colab": {
          "base_uri": "https://localhost:8080/"
        },
        "id": "_DEFbHjEcZRf",
        "outputId": "d7025a9c-350e-4f87-8117-36f2b5c8c6dc"
      },
      "outputs": [
        {
          "output_type": "stream",
          "name": "stdout",
          "text": [
            "Please Enter The String \n",
            "\n",
            "iitk\n",
            "Nonce: 1217060\n",
            "Execution Time: 2.2411346435546875e-05\n"
          ]
        }
      ],
      "source": [
        "import string\n",
        "import hashlib\n",
        "import time\n",
        "\n",
        "def f(a: string):\n",
        "    i = 0\n",
        "    target = 0x00000FFFFFFFFFFFFFFFFFFFFFFFFFFFFFFFFFFFFFFFFFFFFFFFFFFFFFFFFFFF\n",
        "    while True:\n",
        "        i = i + 1\n",
        "        b = a + str(i)\n",
        "\n",
        "        if int(hashlib.sha256(b.encode('utf-8')).hexdigest(), 16) < target:\n",
        "            break\n",
        "\n",
        "    return i\n",
        "\n",
        "s = input(\"Please Enter The String \\n\")\n",
        "print(\"Nonce: \"+ str(f(s)))\n",
        "start_time = time.time()\n",
        "end_time = time.time()\n",
        "print(\"Execution Time: \" + str(end_time-start_time))"
      ]
    },
    {
      "cell_type": "code",
      "source": [
        ""
      ],
      "metadata": {
        "id": "smf2qfricadO"
      },
      "execution_count": null,
      "outputs": []
    }
  ]
}