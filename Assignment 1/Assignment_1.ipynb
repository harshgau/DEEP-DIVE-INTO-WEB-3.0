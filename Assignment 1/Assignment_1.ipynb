{
  "nbformat": 4,
  "nbformat_minor": 0,
  "metadata": {
    "colab": {
      "name": "Assignment_1.ipynb",
      "provenance": [],
      "collapsed_sections": []
    },
    "kernelspec": {
      "name": "python3",
      "display_name": "Python 3"
    },
    "language_info": {
      "name": "python"
    }
  },
  "cells": [
    {
      "cell_type": "code",
      "execution_count": 11,
      "metadata": {
        "colab": {
          "base_uri": "https://localhost:8080/"
        },
        "id": "_DEFbHjEcZRf",
        "outputId": "4be2004c-bc82-4c6f-9245-c0c267e5e1d1"
      },
      "outputs": [
        {
          "output_type": "stream",
          "name": "stdout",
          "text": [
            "Please Enter The String \n",
            "iitk\n",
            "Nonce: 1217060\n",
            "Execution Time: 2.2411346435546875e-05\n"
          ]
        }
      ],
      "source": [
        "import string\n",
        "import hashlib\n",
        "import time\n",
        "\n",
        "def f(s: string):\n",
        "    ans = 0\n",
        "    target = 0x00000FFFFFFFFFFFFFFFFFFFFFFFFFFFFFFFFFFFFFFFFFFFFFFFFFFFFFFFFFFF\n",
        "    while True:\n",
        "        ans = ans + 1\n",
        "        temp = s + str(ans)\n",
        "\n",
        "        if int(hashlib.sha256(temp.encode('utf-8')).hexdigest(), 16) < target:\n",
        "            break\n",
        "\n",
        "    return ans\n",
        "\n",
        "s = input(\"Please Enter The String \\n\")\n",
        "print(\"Nonce: \"+ str(f(s)))\n",
        "start_time = time.time()\n",
        "end_time = time.time()\n",
        "print(\"Execution Time: \" + str(end_time-start_time))"
      ]
    },
    {
      "cell_type": "code",
      "source": [
        ""
      ],
      "metadata": {
        "id": "smf2qfricadO"
      },
      "execution_count": 8,
      "outputs": []
    }
  ]
}